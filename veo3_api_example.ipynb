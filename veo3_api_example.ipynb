{
 "cells": [
  {
   "cell_type": "markdown",
   "metadata": {},
   "source": [
    "# polling"
   ]
  },
  {
   "cell_type": "code",
   "execution_count": null,
   "metadata": {},
   "outputs": [
    {
     "name": "stdout",
     "output_type": "stream",
     "text": [
      "Starting Veo 3 generation job...\n",
      "Job started with Request ID: cmcg78o7905dr11moeg7i25y7\n",
      "Polling Status URL: https://www.unitedcompute.ai/api/py/google-veo-3-i2v/status/cmcg78o7905dr11moeg7i25y7\n"
     ]
    }
   ],
   "source": [
    "import requests\n",
    "import time\n",
    "\n",
    "# --- Configuration ---\n",
    "API_KEY = \"your_unitedcompute_api_key_from_the_dashboard\" # Your actual API Key\n",
    "BASE_URL = \"https://www.unitedcompute.ai\"\n",
    "\n",
    "# --- 1. Start the Veo 3 generation job (without a webhook_url) ---\n",
    "print(\"Starting Veo 3 generation job...\")\n",
    "start_response = requests.post(\n",
    "    f\"{BASE_URL}/api/py/google-veo-3-i2v/generate\",\n",
    "    headers={\n",
    "        \"Content-Type\": \"application/json\",\n",
    "        \"X-API-Key\": API_KEY\n",
    "    },\n",
    "    json={\n",
    "        # Notice: The \"webhook_url\" key is NOT included in this request.\n",
    "        \"img_url\": \"https://3jtcit0lon114hqn.public.blob.vercel-storage.com/IMG_6754-L2mFgFi3CVT0b85VJ051MwQ5mMDCm1.jpg\",\n",
    "        \"prompt\": \"You gotta pump those numbers up. Those are rookie numbers.\",\n",
    "    }\n",
    ")\n",
    "\n",
    "# --- 2. Get the Request ID from the initial response ---\n",
    "start_data = start_response.json()\n",
    "request_id = start_data.get(\"request_id\")\n",
    "status_url_path = start_data.get(\"status_url\")\n",
    "\n",
    "if not request_id or not status_url_path:\n",
    "    raise Exception(f\"Failed to start job. Response: {start_data}\")\n",
    "\n",
    "status_url = f\"{BASE_URL}{status_url_path}\"\n",
    "print(f\"Job started with Request ID: {request_id}\")\n",
    "print(f\"Polling Status URL: {status_url}\")"
   ]
  },
  {
   "cell_type": "code",
   "execution_count": 12,
   "metadata": {},
   "outputs": [
    {
     "name": "stdout",
     "output_type": "stream",
     "text": [
      "Checking job status...\n",
      "--> Current status is: 'processing'\n",
      "Checking job status...\n",
      "--> Current status is: 'processing'\n",
      "Checking job status...\n",
      "--> Current status is: 'processing'\n",
      "Checking job status...\n",
      "--> Current status is: 'processing'\n",
      "Checking job status...\n",
      "--> Current status is: 'processing'\n",
      "Checking job status...\n",
      "--> Current status is: 'processing'\n",
      "Checking job status...\n",
      "--> Current status is: 'processing'\n",
      "Checking job status...\n",
      "--> Current status is: 'processing'\n",
      "Checking job status...\n",
      "--> Current status is: 'processing'\n",
      "Checking job status...\n",
      "--> Current status is: 'processing'\n",
      "Checking job status...\n",
      "--> Current status is: 'processing'\n",
      "Checking job status...\n",
      "--> Current status is: 'processing'\n",
      "Checking job status...\n",
      "--> Current status is: 'processing'\n",
      "Checking job status...\n",
      "--> Current status is: 'processing'\n",
      "Checking job status...\n",
      "--> Current status is: 'processing'\n",
      "Checking job status...\n",
      "--> Current status is: 'processing'\n",
      "Checking job status...\n",
      "--> Current status is: 'processing'\n",
      "Checking job status...\n",
      "--> Current status is: 'succeeded'\n",
      "\n",
      "✅ Generation successful! Video URL: https://unitedcompute.s3.us-east-1.amazonaws.com/united-compute-20250628121307-4462.mp4\n"
     ]
    }
   ],
   "source": [
    "# --- 3. Poll for the result in a loop ---\n",
    "while True:\n",
    "    print(\"Checking job status...\")\n",
    "    try:\n",
    "        status_response = requests.get(status_url, headers={\"X-API-Key\": API_KEY})\n",
    "        status_response.raise_for_status() # Check for HTTP errors like 404 or 500\n",
    "        \n",
    "        status_data = status_response.json()\n",
    "        current_status = status_data.get(\"status\")\n",
    "\n",
    "        print(f\"--> Current status is: '{current_status}'\")\n",
    "\n",
    "        if current_status == \"succeeded\":\n",
    "            video_url = status_data.get(\"content\", {}).get(\"video_url\")\n",
    "            print(f\"\\n✅ Generation successful! Video URL: {video_url}\")\n",
    "            break # Exit the loop\n",
    "\n",
    "        elif current_status == \"failed\":\n",
    "            error_detail = status_data.get(\"detail\", \"Unknown error.\")\n",
    "            print(f\"\\n❌ Generation failed: {error_detail}\")\n",
    "            break # Exit the loop\n",
    "        \n",
    "        # If status is \"processing\", wait for 10 seconds before the next check\n",
    "        time.sleep(10)\n",
    "\n",
    "    except requests.exceptions.RequestException as e:\n",
    "        print(f\"\\nAn error occurred while checking status: {e}\")\n",
    "        break"
   ]
  },
  {
   "cell_type": "markdown",
   "metadata": {},
   "source": [
    "## webhook"
   ]
  },
  {
   "cell_type": "code",
   "execution_count": null,
   "metadata": {},
   "outputs": [],
   "source": [
    "#veo3 api testing:\n",
    "\n",
    "import requests\n",
    "\n",
    "# --- Configuration ---\n",
    "API_KEY = \"your_unitedcompute_api_key_from_the_dashboard\" \n",
    "# A test URL from a service like https://webhook.site\n",
    "YOUR_WEBHOOK_URL = \"https://webhook.site/some-unique-id\" \n",
    "\n",
    "# --- API Request for Google Veo 3 ---\n",
    "response = requests.post(\n",
    "    \"https://www.unitedcompute.ai/api/py/google-veo-3-i2v/generate\",\n",
    "    headers={\n",
    "        \"Content-Type\": \"application/json\",\n",
    "        \"X-API-Key\": API_KEY\n",
    "    },\n",
    "    json={\n",
    "        \"webhook_url\": YOUR_WEBHOOK_URL, # Optional: for webhook mode\n",
    "        \"img_url\": \"https://3jtcit0lon114hqn.public.blob.vercel-storage.com/IMG_6754-L2mFgFi3CVT0b85VJ051MwQ5mMDCm1.jpg\",\n",
    "        \"prompt\": \"You gotta pump those numbers up. Those are rookie numbers.\"\n",
    "    }\n",
    ")\n",
    "\n",
    "print(\"Initial API Response:\")\n",
    "print(response.json())"
   ]
  }
 ],
 "metadata": {
  "kernelspec": {
   "display_name": "env",
   "language": "python",
   "name": "python3"
  },
  "language_info": {
   "codemirror_mode": {
    "name": "ipython",
    "version": 3
   },
   "file_extension": ".py",
   "mimetype": "text/x-python",
   "name": "python",
   "nbconvert_exporter": "python",
   "pygments_lexer": "ipython3",
   "version": "3.12.9"
  }
 },
 "nbformat": 4,
 "nbformat_minor": 2
}
